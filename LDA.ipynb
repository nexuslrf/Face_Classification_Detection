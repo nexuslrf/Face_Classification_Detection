{
 "cells": [
  {
   "cell_type": "markdown",
   "metadata": {},
   "source": [
    "## [Fisher's linear discriminant (LDA)](https://en.wikipedia.org/wiki/Linear_discriminant_analysis#Fisher's_linear_discriminant)"
   ]
  },
  {
   "cell_type": "markdown",
   "metadata": {},
   "source": [
    "## Math for LDA\n",
    "\n",
    "$$y\\in \\{+1,-1\\}$$\n",
    "\n",
    "Assume:\n",
    "\n",
    "$$ p(x|y=-1)\\sim\\mathcal{N}(\\mu_{-},\\Sigma_{-})$$\n",
    "\n",
    "$$ p(x|y=+1)\\sim\\mathcal{N}(\\mu_{+},\\Sigma_{+})$$\n",
    "\n",
    "Linear projection:\n",
    "\n",
    "$$z = w \\cdot x \\sim \\mathcal{N}(w\\cdot\\mu_*,w^{T}\\Sigma_{*}w)$$\n",
    "\n",
    "Optimize Variance:\n",
    "\n",
    "$$ \\sigma^2_{between} = [w\\cdot(\\mu_+-\\mu_-)]^2$$\n",
    "\n",
    "$$ \\sigma^2_{within} = n_+\\sigma^2_+ + n_-\\sigma^2_- = w^T(n_-\\Sigma_-+n_+\\Sigma_+)w$$\n",
    "\n",
    "Objective:\n",
    "\n",
    "$$\\max S = \\frac{\\sigma^2_{between}}{\\sigma^2_{within}} = \\frac{w^TS_Bw}{w^TS_Ww}$$\n",
    "\n",
    "$$ \\iff \\max w^TS_Bw, \\text{ s.t. } w^TS_Ww = 1$$\n",
    "\n",
    "By Lagrange multipliers:\n",
    "\n",
    "$$ \\Rightarrow S_W^{-1}S_Bw = \\lambda w$$\n",
    "\n",
    "$$ \\Rightarrow w \\propto S_W^{-1}(\\mu_+ - \\mu_-)$$"
   ]
  },
  {
   "cell_type": "markdown",
   "metadata": {},
   "source": [
    "## Codes for binary classification"
   ]
  },
  {
   "cell_type": "code",
   "execution_count": 7,
   "metadata": {},
   "outputs": [],
   "source": [
    "import numpy as np\n",
    "import tqdm"
   ]
  },
  {
   "cell_type": "code",
   "execution_count": 30,
   "metadata": {},
   "outputs": [],
   "source": [
    "class ClassData():\n",
    "    def __init__(self, X, label, mean_all):\n",
    "        self.X = X\n",
    "        self.label = label\n",
    "        self.num = X.shape[1]\n",
    "        self.mean = X.mean(1)\n",
    "        self.var = np.cov(X)\n",
    "        self.Swi = self.var * (self.num - 1)# unbiased estimation    \n",
    "        tmp = self.mean - mean_all\n",
    "        self.cov = np.dot(tmp, tmp.transpose())\n",
    "        self.Sbi = self.cov * self.num\n",
    "\n",
    "class LDA():\n",
    "    def __init__(self, dim, num_classes=2, labels=[-1,1], bayes = True):\n",
    "        self.dim = dim+1\n",
    "        self.num_classes = num_classes\n",
    "        self.labels = range(num_classes) if labels is None else labels\n",
    "        self.bayes = bayes\n",
    "\n",
    "    \n",
    "    def fit(self, X,y):\n",
    "        if X.shape[1]!=len(y):\n",
    "            X = X.transpose()  # dim, num\n",
    "        # add intercept\n",
    "        X = np.insert(X, 0, values=1, axis=0)\n",
    "        if self.bayes:\n",
    "            self.mean_all = X.mean(1)\n",
    "        else:\n",
    "            self.mean_all = np.zeros(self.dim)\n",
    "            \n",
    "        self.Sw = np.zeros([self.dim, self.dim])\n",
    "        diff = np.zeros(self.dim)\n",
    "        for i in self.labels:\n",
    "            X_c = ClassData(X[:,y==i], i, self.mean_all)\n",
    "            self.Sw = self.Sw + X_c.Swi\n",
    "            diff = diff + i * X_c.mean\n",
    "            if not self.bayes:\n",
    "                self.mean_all + X_c.mean\n",
    "        \n",
    "        self.Sb = np.dot(diff, diff.transpose())\n",
    "        \n",
    "        if not self.bayes:\n",
    "            self.mean_all /= self.num_classes\n",
    "        # For Binary Case    \n",
    "        self.w = np.dot(np.linalg.pinv(self.Sw),diff.reshape(self.dim,1))\n",
    "        # Standardize\n",
    "#         scale = np.dot(self.w.transpose(), self.Sw, self.w)\n",
    "#         self.w /= np.sqrt(scale)\n",
    "        self.mean_w = np.dot(self.w.transpose(), self.mean_all)\n",
    "    \n",
    "    def predict(self, X):\n",
    "        if X.shape[0]!=self.dim and X.shape[0]!=self.dim-1:\n",
    "            X = X.transpose()\n",
    "        if X.shape[0]==self.dim-1:\n",
    "            X = np.insert(X, 0, values=1, axis=0)  \n",
    "        pred = np.dot(self.w.transpose(),X) - self.mean_w\n",
    "        pred[pred>=0] = 1\n",
    "        pred[pred<0] = -1\n",
    "        return pred.astype(int)\n",
    "    \n",
    "    def get_acc(self, X, y):\n",
    "        return (self.predict(X) == y).sum()/len(y)\n",
    "    \n",
    "    def get_score(self, X):\n",
    "        if X.shape[0]!=self.dim and X.shape[0]!=self.dim-1:\n",
    "            X = X.transpose()\n",
    "        if X.shape[0]==self.dim-1:\n",
    "            X = np.insert(X, 0, values=1, axis=0)  \n",
    "        pred = np.dot(self.w.transpose(),X) - self.mean_w\n",
    "        return pred\n",
    "        \n",
    "    def get_variance(self):\n",
    "        intra_var = self.w.transpose().dot(self.Sb).dot(self.w).shape\n",
    "        inter_var = self.w.transpose().dot(self.Sw).dot(self.w).shape\n",
    "        return intra_var, inter_var\n",
    "        "
   ]
  },
  {
   "cell_type": "markdown",
   "metadata": {},
   "source": [
    "## Testing"
   ]
  },
  {
   "cell_type": "code",
   "execution_count": 31,
   "metadata": {},
   "outputs": [],
   "source": [
    "from sklearn.datasets import load_breast_cancer"
   ]
  },
  {
   "cell_type": "code",
   "execution_count": 32,
   "metadata": {},
   "outputs": [],
   "source": [
    "db = load_breast_cancer()"
   ]
  },
  {
   "cell_type": "code",
   "execution_count": 33,
   "metadata": {},
   "outputs": [],
   "source": [
    "y = db['target']\n",
    "X = db['data']"
   ]
  },
  {
   "cell_type": "code",
   "execution_count": 34,
   "metadata": {},
   "outputs": [],
   "source": [
    "y[y==0] = -1"
   ]
  },
  {
   "cell_type": "code",
   "execution_count": 35,
   "metadata": {},
   "outputs": [
    {
     "data": {
      "text/plain": [
       "0.9753954305799648"
      ]
     },
     "execution_count": 35,
     "metadata": {},
     "output_type": "execute_result"
    }
   ],
   "source": [
    "M = LDA(30)\n",
    "M.fit(X,y)\n",
    "M.get_acc(X,y)"
   ]
  },
  {
   "cell_type": "code",
   "execution_count": 36,
   "metadata": {},
   "outputs": [
    {
     "data": {
      "text/plain": [
       "(31, 31)"
      ]
     },
     "execution_count": 36,
     "metadata": {},
     "output_type": "execute_result"
    }
   ],
   "source": [
    "M.Sw.shape"
   ]
  },
  {
   "cell_type": "code",
   "execution_count": 37,
   "metadata": {},
   "outputs": [
    {
     "data": {
      "text/plain": [
       "(1, 1)"
      ]
     },
     "execution_count": 37,
     "metadata": {},
     "output_type": "execute_result"
    }
   ],
   "source": [
    "M.w.transpose().dot(M.Sw).dot(M.w).shape"
   ]
  },
  {
   "cell_type": "code",
   "execution_count": null,
   "metadata": {},
   "outputs": [],
   "source": [
    "M.get_variance()"
   ]
  },
  {
   "cell_type": "code",
   "execution_count": null,
   "metadata": {},
   "outputs": [],
   "source": []
  }
 ],
 "metadata": {
  "kernelspec": {
   "display_name": "Python 3",
   "language": "python",
   "name": "python3"
  },
  "language_info": {
   "codemirror_mode": {
    "name": "ipython",
    "version": 3
   },
   "file_extension": ".py",
   "mimetype": "text/x-python",
   "name": "python",
   "nbconvert_exporter": "python",
   "pygments_lexer": "ipython3",
   "version": "3.6.8"
  }
 },
 "nbformat": 4,
 "nbformat_minor": 2
}
