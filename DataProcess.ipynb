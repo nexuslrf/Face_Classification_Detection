{
 "cells": [
  {
   "cell_type": "code",
   "execution_count": 1,
   "metadata": {},
   "outputs": [],
   "source": [
    "import numpy as np\n",
    "import os\n",
    "import shutil\n",
    "import PIL.Image as Image\n",
    "import PIL.ImageDraw as  ImageDraw\n",
    "from  queue import Queue\n",
    "import tqdm\n",
    "import cv2\n",
    "import matplotlib.pyplot as plt"
   ]
  },
  {
   "cell_type": "code",
   "execution_count": 2,
   "metadata": {},
   "outputs": [
    {
     "data": {
      "text/plain": [
       "['FDDB-fold-01-ellipseList.txt',\n",
       " 'FDDB-fold-02-ellipseList.txt',\n",
       " 'FDDB-fold-03-ellipseList.txt',\n",
       " 'FDDB-fold-04-ellipseList.txt',\n",
       " 'FDDB-fold-05-ellipseList.txt',\n",
       " 'FDDB-fold-06-ellipseList.txt',\n",
       " 'FDDB-fold-07-ellipseList.txt',\n",
       " 'FDDB-fold-08-ellipseList.txt',\n",
       " 'FDDB-fold-09-ellipseList.txt',\n",
       " 'FDDB-fold-10-ellipseList.txt']"
      ]
     },
     "execution_count": 2,
     "metadata": {},
     "output_type": "execute_result"
    }
   ],
   "source": [
    "fold_dir = 'FDDB-folds/'\n",
    "folds = os.listdir(fold_dir)\n",
    "folds.sort()\n",
    "folds_anno = folds[::2]\n",
    "folds_anno"
   ]
  },
  {
   "cell_type": "markdown",
   "metadata": {},
   "source": [
    "## Folds Loader"
   ]
  },
  {
   "cell_type": "code",
   "execution_count": 3,
   "metadata": {},
   "outputs": [],
   "source": [
    "class fold_loader():\n",
    "    def __init__(self, file):\n",
    "        self.fhand = open(file)\n",
    "        self.curr_img = ''\n",
    "        self.num_head = 0\n",
    "        self.curr_head = 0\n",
    "        self.heads_in_img = Queue()\n",
    "    def __iter__(self):\n",
    "        return self\n",
    "    def __next__(self):\n",
    "        if not self.heads_in_img.empty():\n",
    "            self.curr_head+=1\n",
    "            return self.curr_img, self.heads_in_img.get(), self.curr_head\n",
    "        else:\n",
    "            self.curr_head=0\n",
    "            line = self.fhand.readline()\n",
    "            if line:\n",
    "                self.curr_img = line.rstrip()\n",
    "                self.num_head = int(self.fhand.readline().rstrip())\n",
    "                if self.num_head == 0:\n",
    "                    return self.__next__()\n",
    "                for i in range(self.num_head):\n",
    "                    self.heads_in_img.put([eval(t) for t in self.fhand.readline().rstrip().split()])     \n",
    "                return self.curr_img, self.heads_in_img.get(), self.curr_head\n",
    "            else:\n",
    "                raise StopIteration"
   ]
  },
  {
   "cell_type": "markdown",
   "metadata": {},
   "source": [
    "## Cropping!"
   ]
  },
  {
   "cell_type": "code",
   "execution_count": 6,
   "metadata": {},
   "outputs": [],
   "source": [
    "faces_dir = 'faces/'\n",
    "factor = 1+2/3"
   ]
  },
  {
   "cell_type": "code",
   "execution_count": 7,
   "metadata": {},
   "outputs": [],
   "source": [
    "def crop(img, box): # box x1,y1,x2,y2\n",
    "    box = [int(i) for i in box]\n",
    "    return img[box[1]:box[3], box[0]:box[2]]"
   ]
  },
  {
   "cell_type": "code",
   "execution_count": 6,
   "metadata": {},
   "outputs": [
    {
     "name": "stderr",
     "output_type": "stream",
     "text": [
      "100%|██████████| 10/10 [00:25<00:00,  1.89s/it]\n"
     ]
    }
   ],
   "source": [
    "for f in tqdm.tqdm(folds_anno):\n",
    "    loader = fold_loader(os.path.join(fold_dir,f))\n",
    "    for img,face,idx in loader:\n",
    "        dirs, _ = os.path.split(img)\n",
    "        out_dirs = os.path.join(faces_dir,dirs)\n",
    "        os.makedirs(out_dirs, exist_ok=True)\n",
    "        raw = cv2.imread(img+'.jpg')\n",
    "        x,y = face[3:5]\n",
    "        rh,rw = face[:2]\n",
    "        bx = int(rw)*4; by = int(rh)*4;\n",
    "        x+=bx; y+=by;\n",
    "        raw_expand = cv2.copyMakeBorder(raw,by,by,bx,bx,cv2.BORDER_REPLICATE) # Up Down Left Right\n",
    "        box = (x-factor*rw,y-factor*rh,x+factor*rw,y+factor*rh)\n",
    "        cropped = crop(raw_expand, box)\n",
    "        cv2.imwrite(os.path.join(faces_dir,img)+f'_{idx}.jpg',cropped)      \n",
    "        \n"
   ]
  },
  {
   "cell_type": "markdown",
   "metadata": {},
   "source": [
    "## Dataloader"
   ]
  },
  {
   "cell_type": "code",
   "execution_count": 8,
   "metadata": {},
   "outputs": [],
   "source": [
    "train_list = []\n",
    "val_list = []"
   ]
  },
  {
   "cell_type": "code",
   "execution_count": 9,
   "metadata": {},
   "outputs": [
    {
     "name": "stderr",
     "output_type": "stream",
     "text": [
      "100%|██████████| 8/8 [00:00<00:00, 25.93it/s]\n",
      "100%|██████████| 2/2 [00:00<00:00, 31.25it/s]\n"
     ]
    }
   ],
   "source": [
    "# positive sampling\n",
    "for f in tqdm.tqdm(folds_anno[:8]):\n",
    "    loader = fold_loader(os.path.join(fold_dir,f))\n",
    "    for img,face,idx in loader:\n",
    "        train_list.append((os.path.join(faces_dir,img)+f'_{idx}.jpg',8))\n",
    "for f in tqdm.tqdm(folds_anno[-2:]):\n",
    "    loader = fold_loader(os.path.join(fold_dir,f))\n",
    "    for img,face,idx in loader:\n",
    "        val_list.append((os.path.join(faces_dir,img)+f'_{idx}.jpg',8))\n"
   ]
  },
  {
   "cell_type": "code",
   "execution_count": 20,
   "metadata": {},
   "outputs": [
    {
     "data": {
      "text/plain": [
       "[('faces/2002/08/11/big/img_591_0.jpg', 8),\n",
       " ('faces/2002/08/26/big/img_265_0.jpg', 8),\n",
       " ('faces/2002/08/26/big/img_265_1.jpg', 8),\n",
       " ('faces/2002/08/26/big/img_265_2.jpg', 8),\n",
       " ('faces/2002/07/19/big/img_423_0.jpg', 8),\n",
       " ('faces/2002/08/24/big/img_490_0.jpg', 8),\n",
       " ('faces/2002/08/31/big/img_17676_0.jpg', 8),\n",
       " ('faces/2002/08/31/big/img_17676_1.jpg', 8),\n",
       " ('faces/2002/07/31/big/img_228_0.jpg', 8),\n",
       " ('faces/2002/07/31/big/img_228_1.jpg', 8)]"
      ]
     },
     "execution_count": 20,
     "metadata": {},
     "output_type": "execute_result"
    }
   ],
   "source": [
    "train_list[:10]"
   ]
  },
  {
   "cell_type": "code",
   "execution_count": 10,
   "metadata": {},
   "outputs": [
    {
     "name": "stderr",
     "output_type": "stream",
     "text": [
      "100%|██████████| 4/4 [00:00<00:00, 19.79it/s]\n",
      "100%|██████████| 1/1 [00:00<00:00, 22.92it/s]\n"
     ]
    }
   ],
   "source": [
    "# negative sampling\n",
    "for f in tqdm.tqdm(folds_anno[:4]):\n",
    "    loader = fold_loader(os.path.join(fold_dir,f))\n",
    "    for img,face,idx in loader:\n",
    "        for i in range(8):\n",
    "            train_list.append((os.path.join(faces_dir,img)+f'_{idx}.jpg',i))\n",
    "for f in tqdm.tqdm(folds_anno[-1:]):\n",
    "    loader = fold_loader(os.path.join(fold_dir,f))\n",
    "    for img,face,idx in loader:\n",
    "        for i in range(8):\n",
    "            val_list.append((os.path.join(faces_dir,img)+f'_{idx}.jpg',i))"
   ]
  },
  {
   "cell_type": "code",
   "execution_count": 22,
   "metadata": {},
   "outputs": [
    {
     "data": {
      "text/plain": [
       "[('faces/2002/08/13/big/img_380_0.jpg', 6),\n",
       " ('faces/2002/08/13/big/img_380_0.jpg', 7),\n",
       " ('faces/2002/08/13/big/img_380_1.jpg', 0),\n",
       " ('faces/2002/08/13/big/img_380_1.jpg', 1),\n",
       " ('faces/2002/08/13/big/img_380_1.jpg', 2),\n",
       " ('faces/2002/08/13/big/img_380_1.jpg', 3),\n",
       " ('faces/2002/08/13/big/img_380_1.jpg', 4),\n",
       " ('faces/2002/08/13/big/img_380_1.jpg', 5),\n",
       " ('faces/2002/08/13/big/img_380_1.jpg', 6),\n",
       " ('faces/2002/08/13/big/img_380_1.jpg', 7)]"
      ]
     },
     "execution_count": 22,
     "metadata": {},
     "output_type": "execute_result"
    }
   ],
   "source": [
    "train_list[-10:]"
   ]
  },
  {
   "cell_type": "code",
   "execution_count": 11,
   "metadata": {},
   "outputs": [],
   "source": [
    "np.save('train_list.npy', train_list)\n",
    "np.save('val_list.npy', val_list)"
   ]
  },
  {
   "cell_type": "code",
   "execution_count": 12,
   "metadata": {},
   "outputs": [],
   "source": [
    "class FDDB():\n",
    "    def __init__(self, datalist, transform = None, crop=True, zero_one = False):\n",
    "        self.datalist = np.load(datalist).tolist()\n",
    "        self.directions = np.array([\n",
    "           [ 1,  0,  1,  0],\n",
    "           [ 0,  1,  0,  1],\n",
    "           [-1,  0, -1,  0],\n",
    "           [ 0, -1,  0, -1],\n",
    "           [ 1,  1,  1,  1],\n",
    "           [-1, -1, -1, -1],\n",
    "           [ 1, -1,  1, -1],\n",
    "           [-1,  1, -1,  1],\n",
    "           [ 0,  0,  0,  0]\n",
    "        ])\n",
    "        self.transform = transform\n",
    "        self.crop = crop\n",
    "        self.zero_one = zero_one\n",
    "    \n",
    "    def __len__(self):\n",
    "        return len(self.datalist)\n",
    "    \n",
    "    def __getitem__(self, idx):\n",
    "        img, pos = self.datalist[idx]\n",
    "        pos = int(pos)\n",
    "        img = Image.open(img)\n",
    "        if self.crop:\n",
    "            w,h = img.size\n",
    "            wi,hi = w/5, h/5\n",
    "            offset = np.array([wi,hi,wi,hi])\n",
    "            bndbox = np.array([wi,hi,4*wi,4*hi])\n",
    "            bndbox = bndbox + self.directions[pos] * offset\n",
    "            img = img.crop(bndbox)\n",
    "        if self.transform is not None:\n",
    "            img = self.transform(img)\n",
    "        label = 1 if pos == 8 else (0 if self.zero_one else -1)\n",
    "        return img, label\n",
    "    def draw_bndbox(self, idx, mypos): # input PIL image\n",
    "        img, pos = self.datalist[idx]\n",
    "        pos = int(pos) if mypos is None else mypos\n",
    "        img = Image.open(img)\n",
    "        w,h = img.size\n",
    "        wi,hi = w/5, h/5\n",
    "        offset = np.array([wi,hi,wi,hi])\n",
    "        bndbox = np.array([wi,hi,4*wi,4*hi])\n",
    "        bndbox = bndbox + self.directions[pos] * offset * 0.99\n",
    "        # Draw!\n",
    "        draw = ImageDraw.Draw(img)\n",
    "        draw.line(bndbox[[0,1,2,1,2,3,0,3,0,1]].tolist(), fill='red')\n",
    "        return img\n",
    "        "
   ]
  },
  {
   "cell_type": "code",
   "execution_count": 65,
   "metadata": {},
   "outputs": [
    {
     "data": {
      "text/plain": [
       "0"
      ]
     },
     "execution_count": 65,
     "metadata": {},
     "output_type": "execute_result"
    }
   ],
   "source": [
    "db = FDDB('train_list.npy',crop=True, zero_one=True)\n",
    "db[6000][1]"
   ]
  },
  {
   "cell_type": "code",
   "execution_count": 57,
   "metadata": {},
   "outputs": [
    {
     "data": {
      "text/plain": [
       "['faces/2002/08/30/big/img_18395_2.jpg', '8']"
      ]
     },
     "execution_count": 57,
     "metadata": {},
     "output_type": "execute_result"
    }
   ],
   "source": [
    "db.datalist[456]"
   ]
  },
  {
   "cell_type": "code",
   "execution_count": 58,
   "metadata": {},
   "outputs": [
    {
     "data": {
      "image/png": "[encoded data removed]",
      "text/plain": [
       "<PIL.Image.Image image mode=RGB size=82x133 at 0x7F57CFA98FD0>"
      ]
     },
     "execution_count": 58,
     "metadata": {},
     "output_type": "execute_result"
    }
   ],
   "source": [
    "db[10000][0]"
   ]
  },
  {
   "cell_type": "code",
   "execution_count": null,
   "metadata": {},
   "outputs": [],
   "source": [
    "db.draw_bndbox(3)"
   ]
  },
  {
   "cell_type": "code",
   "execution_count": 81,
   "metadata": {},
   "outputs": [
    {
     "data": {
      "image/png": "[encoded data removed]",
      "text/plain": [
       "<PIL.JpegImagePlugin.JpegImageFile image mode=RGB size=78x139 at 0x7F57CFA8D9B0>"
      ]
     },
     "execution_count": 81,
     "metadata": {},
     "output_type": "execute_result"
    }
   ],
   "source": [
    "db.draw_bndbox(9100)"
   ]
  },
  {
   "cell_type": "code",
   "execution_count": 27,
   "metadata": {},
   "outputs": [
    {
     "data": {
      "text/plain": [
       "array([2, 3])"
      ]
     },
     "execution_count": 27,
     "metadata": {},
     "output_type": "execute_result"
    }
   ],
   "source": [
    "a = np.array([2,3,4,5])\n",
    "a[[0,1]]"
   ]
  },
  {
   "cell_type": "code",
   "execution_count": null,
   "metadata": {},
   "outputs": [],
   "source": []
  }
 ],
 "metadata": {
  "kernelspec": {
   "display_name": "Python 3",
   "language": "python",
   "name": "python3"
  },
  "language_info": {
   "codemirror_mode": {
    "name": "ipython",
    "version": 3
   },
   "file_extension": ".py",
   "mimetype": "text/x-python",
   "name": "python",
   "nbconvert_exporter": "python",
   "pygments_lexer": "ipython3",
   "version": "3.6.8"
  }
 },
 "nbformat": 4,
 "nbformat_minor": 2
}
