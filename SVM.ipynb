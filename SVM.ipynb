{
 "cells": [
  {
   "cell_type": "markdown",
   "metadata": {},
   "source": [
    "# SVM\n",
    "\n",
    "Here I use an off-the-shelf lib in [scikil-learn](http://sklearn.lzjqsdd.com/modules/classes.html#module-sklearn.svm)"
   ]
  },
  {
   "cell_type": "code",
   "execution_count": 5,
   "metadata": {},
   "outputs": [],
   "source": [
    "from sklearn.svm import SVC\n"
   ]
  },
  {
   "cell_type": "code",
   "execution_count": 12,
   "metadata": {},
   "outputs": [],
   "source": [
    "class SVM():\n",
    "    def __init__(self, params={}):\n",
    "        self.clf = SVC(\n",
    "            kernel = self.set_params('rbf', 'kernel', params),\n",
    "            gamma = self.set_params('scale', 'gamma', params),\n",
    "            verbose = self.set_params(False, 'verbose', params)\n",
    "                      )\n",
    "        \n",
    "    def set_params(self, default, label, params):\n",
    "        return default if label not in params.keys() else params[label]\n",
    "\n",
    "    \n",
    "    def fit(self, X, y):\n",
    "        if X.shape[1]==len(y):\n",
    "            X = X.transpose()  # num, dim\n",
    "        self.dim = X.shape[1]\n",
    "        self.clf.fit(X,y)\n",
    "        \n",
    "    def get_acc(self, X, y):\n",
    "        if X.shape[1]==len(y):\n",
    "            X = X.transpose()  # num, dim\n",
    "        return self.clf.score(X,y)\n",
    "    \n",
    "    def predict(self, X):\n",
    "        if X.shape[1] != self.dim:\n",
    "            X = X.transpose()\n",
    "        return self.clf.predict(X)\n",
    "    \n",
    "    def get_score(self, X):\n",
    "        if X.shape[1] != self.dim:\n",
    "            X = X.transpose()\n",
    "        return self.clf.decision_function(X)\n",
    "    \n",
    "    def get_SV(self):\n",
    "        return self.clf.support_"
   ]
  },
  {
   "cell_type": "markdown",
   "metadata": {},
   "source": [
    "## Testing"
   ]
  },
  {
   "cell_type": "code",
   "execution_count": 13,
   "metadata": {},
   "outputs": [],
   "source": [
    "from sklearn.datasets import make_classification"
   ]
  },
  {
   "cell_type": "code",
   "execution_count": 14,
   "metadata": {},
   "outputs": [
    {
     "data": {
      "text/plain": [
       "array([-1,  1,  1, -1, -1,  1,  1,  1, -1,  1,  1, -1,  1, -1, -1, -1, -1,\n",
       "        1, -1,  1, -1,  1,  1, -1,  1, -1,  1,  1,  1, -1, -1, -1, -1,  1,\n",
       "       -1,  1,  1,  1, -1,  1,  1,  1, -1,  1, -1,  1,  1,  1, -1,  1,  1,\n",
       "       -1, -1, -1, -1, -1, -1, -1, -1,  1, -1, -1,  1, -1,  1, -1, -1, -1,\n",
       "       -1,  1,  1,  1, -1, -1,  1, -1, -1,  1, -1,  1,  1,  1,  1, -1,  1,\n",
       "        1, -1,  1,  1,  1, -1,  1, -1, -1, -1,  1,  1, -1, -1,  1])"
      ]
     },
     "execution_count": 14,
     "metadata": {},
     "output_type": "execute_result"
    }
   ],
   "source": [
    "X,y = make_classification(n_features=4)\n",
    "y[y==0] = -1\n",
    "y"
   ]
  },
  {
   "cell_type": "code",
   "execution_count": 15,
   "metadata": {},
   "outputs": [
    {
     "data": {
      "text/plain": [
       "0.95"
      ]
     },
     "execution_count": 15,
     "metadata": {},
     "output_type": "execute_result"
    }
   ],
   "source": [
    "M = SVM()\n",
    "\n",
    "M.fit(X,y)\n",
    "\n",
    "M.get_acc(X,y)"
   ]
  },
  {
   "cell_type": "code",
   "execution_count": 16,
   "metadata": {},
   "outputs": [
    {
     "data": {
      "text/plain": [
       "array([-1,  1,  1, -1, -1,  1,  1,  1, -1,  1])"
      ]
     },
     "execution_count": 16,
     "metadata": {},
     "output_type": "execute_result"
    }
   ],
   "source": [
    "M.predict(X[:10,:])"
   ]
  },
  {
   "cell_type": "code",
   "execution_count": 17,
   "metadata": {},
   "outputs": [
    {
     "data": {
      "text/plain": [
       "array([-1.45771553,  1.57786638,  1.43511928, -0.47695879, -0.63750515,\n",
       "        0.18763603,  0.8008186 ,  1.59067511, -0.84210904,  1.46913523])"
      ]
     },
     "execution_count": 17,
     "metadata": {},
     "output_type": "execute_result"
    }
   ],
   "source": [
    "M.get_score(X[:10,:])"
   ]
  },
  {
   "cell_type": "code",
   "execution_count": 18,
   "metadata": {},
   "outputs": [
    {
     "data": {
      "text/plain": [
       "array([ 3,  4,  8, 14, 16, 20, 51, 52, 54, 55, 56, 63, 68, 73, 75, 78, 83,\n",
       "       92, 98,  5,  6, 10, 12, 21, 22, 40, 47, 50, 62, 64, 69, 70, 77, 80,\n",
       "       87, 91, 95, 96, 99], dtype=int32)"
      ]
     },
     "execution_count": 18,
     "metadata": {},
     "output_type": "execute_result"
    }
   ],
   "source": [
    "M.get_SV()"
   ]
  },
  {
   "cell_type": "code",
   "execution_count": null,
   "metadata": {},
   "outputs": [],
   "source": []
  }
 ],
 "metadata": {
  "kernelspec": {
   "display_name": "Python 3",
   "language": "python",
   "name": "python3"
  },
  "language_info": {
   "codemirror_mode": {
    "name": "ipython",
    "version": 3
   },
   "file_extension": ".py",
   "mimetype": "text/x-python",
   "name": "python",
   "nbconvert_exporter": "python",
   "pygments_lexer": "ipython3",
   "version": "3.6.8"
  }
 },
 "nbformat": 4,
 "nbformat_minor": 2
}
